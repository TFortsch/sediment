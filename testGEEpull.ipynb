{
 "cells": [
  {
   "cell_type": "code",
   "execution_count": null,
   "metadata": {},
   "outputs": [],
   "source": [
    "import ee\n",
    "import numpy as np\n",
    "import matplotlib.pyplot as plt\n",
    "import shapefile\n",
    "import pandas as pd\n",
    "#ee.Authenticate(force=True)\n",
    "ee.Authenticate()\n",
    "#ee.Initialize(project = 'ee-fortschthomas52')\n",
    "ee.Initialize(project = 'ee-davidmkahler-limpopo')"
   ]
  },
  {
   "cell_type": "markdown",
   "metadata": {},
   "source": [
    "## Determine Area of Interest"
   ]
  },
  {
   "cell_type": "code",
   "execution_count": 45,
   "metadata": {},
   "outputs": [],
   "source": [
    "# Mamba, KNP\n",
    "sf = shapefile.Reader(\"/Volumes/dmk/gis/limpopo/kruger/logger_sites/reference_polygons/mamba/mamba.shp\")"
   ]
  },
  {
   "cell_type": "code",
   "execution_count": 25,
   "metadata": {},
   "outputs": [],
   "source": [
    "# Balule, KNP\n",
    "sf = shapefile.Reader(\"/Volumes/dmk/gis/limpopo/kruger/logger_sites/reference_polygons/balule/balule.shp\")"
   ]
  },
  {
   "cell_type": "code",
   "execution_count": 24,
   "metadata": {},
   "outputs": [],
   "source": [
    "# Paul Kruger Gate, KNP\n",
    "sf = shapefile.Reader(\"/Volumes/dmk/gis/limpopo/kruger/logger_sites/reference_polygons/kruger_gate/kruger_gate.shp\")"
   ]
  },
  {
   "cell_type": "code",
   "execution_count": null,
   "metadata": {},
   "outputs": [],
   "source": [
    "# Lower Sabie, KNP\n",
    "sf = shapefile.Reader(\"/Volumes/dmk/gis/limpopo/kruger/logger_sites/reference_polygons/lower_sabie/lower_sabie.shp\")"
   ]
  },
  {
   "cell_type": "code",
   "execution_count": 6,
   "metadata": {},
   "outputs": [],
   "source": [
    "# Hanover, VA, USA\n",
    "sf = shapefile.Reader(\"/Volumes/dmk/gis/limpopo/kruger/logger_sites/reference_polygons/virginia/hanover.shp\")"
   ]
  },
  {
   "cell_type": "code",
   "execution_count": 46,
   "metadata": {},
   "outputs": [],
   "source": [
    "shapes = sf.shapes()\n",
    "points = shapes[0].points\n",
    "aoi = ee.Geometry.Polygon(points)"
   ]
  },
  {
   "cell_type": "markdown",
   "metadata": {},
   "source": [
    "## Debug Code\n",
    "This code works one step at a time and produces an RGB image."
   ]
  },
  {
   "cell_type": "code",
   "execution_count": 47,
   "metadata": {},
   "outputs": [],
   "source": [
    "startDate = \"2024-06-16\"\n",
    "endDate = \"2024-06-21\""
   ]
  },
  {
   "cell_type": "code",
   "execution_count": 69,
   "metadata": {},
   "outputs": [],
   "source": [
    "# Pull image\n",
    "image = ee.ImageCollection('COPERNICUS/S2_SR_HARMONIZED')\\\n",
    "        .filterDate(startDate, endDate)\\\n",
    "        .select('B2', 'B3', 'B4', 'B8', 'B11')\n",
    "         #.filterMetadata('CLOUDY_PIXEL_PERCENTAGE', 'less_than', 10)\\\n",
    "mosaic = image.median().reproject(crs='EPSG:32736', scale=10) # This allows us to set the resolution.\n",
    "band_arrs = mosaic.sampleRectangle(region=aoi, defaultValue = 0)"
   ]
  },
  {
   "cell_type": "code",
   "execution_count": null,
   "metadata": {},
   "outputs": [
    {
     "data": {
      "text/plain": [
       "'Timestamp:'"
      ]
     },
     "metadata": {},
     "output_type": "display_data"
    },
    {
     "name": "stderr",
     "output_type": "stream",
     "text": [
      "/Users/davidkahler/opt/miniconda3/lib/python3.9/site-packages/eerepr/repr.py:57: UserWarning: Getting info failed with: 'Date: Parameter 'value' is required.'. Falling back to string repr.\n",
      "  warn(f\"Getting info failed with: '{e}'. Falling back to string repr.\")\n"
     ]
    },
    {
     "data": {
      "text/html": [
       "<pre>&lt;ee.ee_date.Date object at 0x12f03e850&gt;</pre>"
      ],
      "text/plain": [
       "<ee.ee_date.Date at 0x12f03e850>"
      ]
     },
     "metadata": {},
     "output_type": "display_data"
    },
    {
     "data": {
      "text/plain": [
       "'Datetime:'"
      ]
     },
     "metadata": {},
     "output_type": "display_data"
    },
    {
     "data": {
      "text/html": [
       "<pre>&lt;ee.ee_string.String object at 0x12ef06430&gt;</pre>"
      ],
      "text/plain": [
       "<ee.ee_string.String at 0x12ef06430>"
      ]
     },
     "metadata": {},
     "output_type": "display_data"
    }
   ],
   "source": [
    "# Determine date of image\n",
    "single = ee.Image(image)\n",
    "ee.Date(single.get('system:time_start'))\n",
    "#display('All metadata:', image)\n",
    "\n",
    "# ee_date = ee.Date(single.get('system:time_start'))\n",
    "# display('Timestamp:', ee_date)  # ee.Date\n",
    "# display('Datetime:', ee_date.format())  # ISO standard date string"
   ]
  },
  {
   "cell_type": "code",
   "execution_count": 49,
   "metadata": {},
   "outputs": [],
   "source": [
    "# Get individual band arrays.\n",
    "band_arr_b2 = band_arrs.get('B2')   # Blue\n",
    "band_arr_b3 = band_arrs.get('B3')   # Green\n",
    "band_arr_b4 = band_arrs.get('B4')   # Red\n",
    "band_arr_b8 = band_arrs.get('B8')   # NIR\n",
    "band_arr_b11 = band_arrs.get('B11') # SWIR\n",
    "# Transfer the arrays from server to client and cast as np array.\n",
    "b2 = np.array(band_arr_b2.getInfo())   # b2  Blue\n",
    "b3 = np.array(band_arr_b3.getInfo())   # b3  Green\n",
    "b4 = np.array(band_arr_b4.getInfo())   # b4  Red\n",
    "b8 = np.array(band_arr_b8.getInfo())   # b8  NIR\n",
    "b11 = np.array(band_arr_b11.getInfo()) # b11 SWIR"
   ]
  },
  {
   "cell_type": "code",
   "execution_count": 50,
   "metadata": {},
   "outputs": [
    {
     "data": {
      "image/png": "[encoded data removed]",
      "text/plain": [
       "<Figure size 640x480 with 1 Axes>"
      ]
     },
     "metadata": {},
     "output_type": "display_data"
    }
   ],
   "source": [
    "# Export RGB\n",
    "np_arr_b4 = np.expand_dims(b4, 2)\n",
    "np_arr_b3 = np.expand_dims(b3, 2)\n",
    "np_arr_b2 = np.expand_dims(b2, 2)\n",
    "rgb_img = np.concatenate((np_arr_b4, np_arr_b3, np_arr_b2), 2)\n",
    "rgb_img = (255*((rgb_img)/3000)).astype('uint8')\n",
    "plt.imshow(rgb_img)\n",
    "plt.show()"
   ]
  },
  {
   "cell_type": "markdown",
   "metadata": {},
   "source": [
    "## Run\n",
    "This code runs the fuction over the date range."
   ]
  },
  {
   "cell_type": "code",
   "execution_count": 51,
   "metadata": {},
   "outputs": [],
   "source": [
    "start = pd.date_range(start= '2017-08-08' , end='2024-06-22' , \n",
    "              freq='5d')\n",
    "end = pd.date_range(start='2017-08-12' , end='2024-06-26' , \n",
    "              freq='5d')\n",
    "dates = pd.DataFrame ({'start': start ,  'end': end})\n",
    "#print(dates)"
   ]
  },
  {
   "cell_type": "code",
   "execution_count": 2,
   "metadata": {},
   "outputs": [],
   "source": [
    "# Define function\n",
    "def pulldata(startDate, endDate):\n",
    "    # Define source data\n",
    "    image = ee.ImageCollection('COPERNICUS/S2_SR_HARMONIZED')\\\n",
    "        .filterDate(startDate, endDate)\\\n",
    "        .select('B2', 'B3', 'B4', 'B8', 'B11')\n",
    "         #.filterMetadata('CLOUDY_PIXEL_PERCENTAGE', 'less_than', 10)\\\n",
    "    \n",
    "    # CRS is not the same.\n",
    "    # proj = image.first().select('B2').projection() # EPSG:32656, UTM zone 56N (Siberia?)\n",
    "    # proj = balule.projection() # EPSG:4326\n",
    "\n",
    "    # Export arrays\n",
    "    # https://gist.github.com/jdbcode/f4d56d72f7fc5beeaa3859999b1f5c3d\n",
    "    # https://gist.github.com/jdbcode/f4d56d72f7fc5beeaa3859999b1f5c3d?permalink_comment_id=3355627#gistcomment-3355627\n",
    "    mosaic = image.median().reproject(crs='EPSG:32736', scale=10) # This allows us to set the resolution.\n",
    "    band_arrs = mosaic.sampleRectangle(region=aoi, defaultValue = 0)\n",
    "    \n",
    "    # Get individual band arrays.\n",
    "    band_arr_b2 = band_arrs.get('B2')   # Blue\n",
    "    band_arr_b3 = band_arrs.get('B3')   # Green\n",
    "    band_arr_b4 = band_arrs.get('B4')   # Red\n",
    "    band_arr_b8 = band_arrs.get('B8')   # NIR\n",
    "    band_arr_b11 = band_arrs.get('B11') # SWIR\n",
    "\n",
    "    # Transfer the arrays from server to client and cast as np array.\n",
    "    b2 = np.array(band_arr_b2.getInfo())   # b2  Blue\n",
    "    b3 = np.array(band_arr_b3.getInfo())   # b3  Green\n",
    "    b4 = np.array(band_arr_b4.getInfo())   # b4  Red\n",
    "    b8 = np.array(band_arr_b8.getInfo())   # b8  NIR\n",
    "    b11 = np.array(band_arr_b11.getInfo()) # b11 SWIR\n",
    "    if(np.max(b2)!=0):\n",
    "        \n",
    "        # Export RGB\n",
    "        #np_arr_b4 = np.expand_dims(b4, 2)\n",
    "        #np_arr_b3 = np.expand_dims(b3, 2)\n",
    "        #np_arr_b2 = np.expand_dims(b2, 2)\n",
    "        #rgb_img = np.concatenate((np_arr_b4, np_arr_b3, np_arr_b2), 2)\n",
    "        #rgb_img = (255*((rgb_img)/3000)).astype('uint8')\n",
    "        #plt.imshow(rgb_img)\n",
    "        #plt.show()\n",
    "\n",
    "        # Normalized Difference Water Index (NDWI)\n",
    "        # NDWI = ( G - NIR ) / ( G + NIR )\n",
    "        ndwiG = (b3-b8)/(b3+b8) # Gao\n",
    "        # NDWI = ( NIR - SWIR ) / ( NIR + SWIR )\n",
    "        ndwiM = (b8-b11)/(b8+b11) # McFeeters\n",
    "        # NDWI = ( G - SWIR ) / ( G + SWIR )\n",
    "        mndwi = (b3-b11)/(b3+b11) # Modified NDWI\n",
    "        water = ndwiG > -0.02\n",
    "\n",
    "        TSS1 = np.NAN\n",
    "        Secchi1 = np.NAN\n",
    "        TSS2 = np.NAN\n",
    "        Secchi2 = np.NAN\n",
    "        TSS3 = np.NAN\n",
    "        Secchi3 = np.NAN\n",
    "        TSS4 = np.NAN\n",
    "        Ratio = np.NAN\n",
    "\n",
    "        TSS1 = (b3+b4)/2\n",
    "        TSS1 = TSS1 * water\n",
    "    #plt.imshow(TSS1 , cmap= \"summer\")\n",
    "    #plt.colorbar(orientation=\"vertical\")\n",
    "    #plt.show\n",
    "        TSS1 = np.sum(TSS1) / np.sum(TSS1>0)\n",
    "    #print(TSS1)\n",
    "\n",
    "        Secchi1 = (b2/b4)\n",
    "        Secchi1 = Secchi1 * water\n",
    "        Secchi1 = np.sum(Secchi1)/ np.sum(Secchi1>0)\n",
    "\n",
    "        TSS2 = (b3/b4)\n",
    "        TSS2 = TSS2 * water\n",
    "        TSS2 = np.sum(TSS2) / np.sum(TSS2>0)\n",
    "\n",
    "        Secchi2 = (b4/b3)\n",
    "        Secchi2 = Secchi2 * water\n",
    "        Secchi2 = np.sum(Secchi2)/ np.sum(Secchi2>0)\n",
    "\n",
    "        TSS3 = (b8/b3 , b8/b4)\n",
    "        TSS3 = TSS3 * water\n",
    "        TSS3 = np.sum(TSS3) / np.sum(TSS3>0)\n",
    "\n",
    "        Secchi3 = (b4/b2)+b2\n",
    "        Secchi3 = Secchi3 * water\n",
    "        Secchi3 = np.sum(Secchi3)/ np.sum(Secchi3>0)\n",
    "\n",
    "        TSS4 = (b4/b3)+b8\n",
    "        TSS4 = TSS4 * water\n",
    "        TSS4 = np.sum(TSS4) / np.sum(TSS4>0)\n",
    "\n",
    "        Ratio = (ndwiG/ndwiM)\n",
    "        Ratio = Ratio * water\n",
    "        Ratio = np.sum(Ratio)/ np.sum(Ratio>0) \n",
    "\n",
    "\n",
    "        f = open(\"Hanover10day.txt\", \"a\")\n",
    "        f.write(str(startDate) + \", \" + str(endDate) + \", \" + \n",
    "                str(TSS1) + \", \" + str(Secchi1) + \", \" + \n",
    "                str(TSS2) + \", \" + str(Secchi2) + \", \" + \n",
    "                str(TSS3) + \", \" + str(Secchi3) + \", \" + \n",
    "                str(TSS4) + \",\" + str(Ratio) + '\\n') \n",
    "            \n",
    "        f.close()"
   ]
  },
  {
   "cell_type": "code",
   "execution_count": null,
   "metadata": {},
   "outputs": [],
   "source": [
    "# Run over all dates\n",
    "for i in range(len(dates)):\n",
    "    pulldata(dates[\"start\"][i], dates[\"end\"][i])"
   ]
  }
 ],
 "metadata": {
  "kernelspec": {
   "display_name": "base",
   "language": "python",
   "name": "python3"
  },
  "language_info": {
   "codemirror_mode": {
    "name": "ipython",
    "version": 3
   },
   "file_extension": ".py",
   "mimetype": "text/x-python",
   "name": "python",
   "nbconvert_exporter": "python",
   "pygments_lexer": "ipython3",
   "version": "3.9.12"
  }
 },
 "nbformat": 4,
 "nbformat_minor": 2
}
